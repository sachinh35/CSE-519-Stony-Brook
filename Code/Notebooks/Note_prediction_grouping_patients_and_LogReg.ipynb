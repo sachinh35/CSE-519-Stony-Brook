{
  "nbformat": 4,
  "nbformat_minor": 0,
  "metadata": {
    "colab": {
      "name": "Note prediction grouping patients and LogReg.ipynb",
      "version": "0.3.2",
      "provenance": []
    },
    "kernelspec": {
      "name": "python3",
      "display_name": "Python 3"
    }
  },
  "cells": [
    {
      "metadata": {
        "id": "xaTLHWjbs7BH",
        "colab_type": "code",
        "colab": {}
      },
      "cell_type": "code",
      "source": [
        "import pandas as pd\n",
        "import numpy as np\n",
        "from tqdm import tqdm\n",
        "tqdm.pandas(desc=\"progress-bar\")\n",
        "from gensim.models import Doc2Vec\n",
        "from sklearn import utils\n",
        "from sklearn.model_selection import train_test_split\n",
        "import gensim\n",
        "from sklearn.linear_model import LogisticRegression\n",
        "from gensim.models.doc2vec import TaggedDocument\n",
        "import re\n",
        "import seaborn as sns\n",
        "import matplotlib.pyplot as plt\n",
        "import sys\n",
        "import os\n",
        "sys.path.append(os.getcwd() + \"/drive/My Drive/Colab Notebooks/lib\")"
      ],
      "execution_count": 0,
      "outputs": []
    },
    {
      "metadata": {
        "id": "YFHYRsa3s_Om",
        "colab_type": "code",
        "colab": {
          "base_uri": "https://localhost:8080/",
          "height": 122
        },
        "outputId": "08c21ed0-e555-488f-db12-ac1130b3b976"
      },
      "cell_type": "code",
      "source": [
        "from google.colab import drive\n",
        "drive.mount('/content/drive')"
      ],
      "execution_count": 2,
      "outputs": [
        {
          "output_type": "stream",
          "text": [
            "Go to this URL in a browser: https://accounts.google.com/o/oauth2/auth?client_id=947318989803-6bn6qk8qdgf4n4g3pfee6491hc0brc4i.apps.googleusercontent.com&redirect_uri=urn%3Aietf%3Awg%3Aoauth%3A2.0%3Aoob&scope=email%20https%3A%2F%2Fwww.googleapis.com%2Fauth%2Fdocs.test%20https%3A%2F%2Fwww.googleapis.com%2Fauth%2Fdrive%20https%3A%2F%2Fwww.googleapis.com%2Fauth%2Fdrive.photos.readonly%20https%3A%2F%2Fwww.googleapis.com%2Fauth%2Fpeopleapi.readonly&response_type=code\n",
            "\n",
            "Enter your authorization code:\n",
            "··········\n",
            "Mounted at /content/drive\n"
          ],
          "name": "stdout"
        }
      ]
    },
    {
      "metadata": {
        "id": "LcVRYLd9tCGd",
        "colab_type": "code",
        "colab": {}
      },
      "cell_type": "code",
      "source": [
        "df = pd.read_csv(\"/content/drive/My Drive/Colab Notebooks/outputs/notes,subjectid,expireflag.csv\")"
      ],
      "execution_count": 0,
      "outputs": []
    },
    {
      "metadata": {
        "id": "vlQfPcQitJcN",
        "colab_type": "code",
        "colab": {
          "base_uri": "https://localhost:8080/",
          "height": 204
        },
        "outputId": "8ab12f93-ff40-4883-ccbe-2c37ca61541b"
      },
      "cell_type": "code",
      "source": [
        "df.head()"
      ],
      "execution_count": 4,
      "outputs": [
        {
          "output_type": "execute_result",
          "data": {
            "text/html": [
              "<div>\n",
              "<style scoped>\n",
              "    .dataframe tbody tr th:only-of-type {\n",
              "        vertical-align: middle;\n",
              "    }\n",
              "\n",
              "    .dataframe tbody tr th {\n",
              "        vertical-align: top;\n",
              "    }\n",
              "\n",
              "    .dataframe thead th {\n",
              "        text-align: right;\n",
              "    }\n",
              "</style>\n",
              "<table border=\"1\" class=\"dataframe\">\n",
              "  <thead>\n",
              "    <tr style=\"text-align: right;\">\n",
              "      <th></th>\n",
              "      <th>Unnamed: 0</th>\n",
              "      <th>subject_id</th>\n",
              "      <th>text</th>\n",
              "      <th>category</th>\n",
              "      <th>expire_flag</th>\n",
              "    </tr>\n",
              "  </thead>\n",
              "  <tbody>\n",
              "    <tr>\n",
              "      <th>0</th>\n",
              "      <td>0</td>\n",
              "      <td>2</td>\n",
              "      <td>Neonatology Attending Triage Note\\n\\nBaby [**N...</td>\n",
              "      <td>Nursing/other</td>\n",
              "      <td>0</td>\n",
              "    </tr>\n",
              "    <tr>\n",
              "      <th>1</th>\n",
              "      <td>2</td>\n",
              "      <td>3</td>\n",
              "      <td>PATIENT/TEST INFORMATION:\\nIndication: S/P Car...</td>\n",
              "      <td>Echo</td>\n",
              "      <td>1</td>\n",
              "    </tr>\n",
              "    <tr>\n",
              "      <th>2</th>\n",
              "      <td>3</td>\n",
              "      <td>3</td>\n",
              "      <td>PATIENT/TEST INFORMATION:\\nIndication: Pericar...</td>\n",
              "      <td>Echo</td>\n",
              "      <td>1</td>\n",
              "    </tr>\n",
              "    <tr>\n",
              "      <th>3</th>\n",
              "      <td>4</td>\n",
              "      <td>3</td>\n",
              "      <td>PATIENT/TEST INFORMATION:\\nIndication: Left ve...</td>\n",
              "      <td>Echo</td>\n",
              "      <td>1</td>\n",
              "    </tr>\n",
              "    <tr>\n",
              "      <th>4</th>\n",
              "      <td>5</td>\n",
              "      <td>3</td>\n",
              "      <td>Sinus rhythm. A-V conduction delay. Slight Q-T...</td>\n",
              "      <td>ECG</td>\n",
              "      <td>1</td>\n",
              "    </tr>\n",
              "  </tbody>\n",
              "</table>\n",
              "</div>"
            ],
            "text/plain": [
              "   Unnamed: 0  subject_id                                               text  \\\n",
              "0           0           2  Neonatology Attending Triage Note\\n\\nBaby [**N...   \n",
              "1           2           3  PATIENT/TEST INFORMATION:\\nIndication: S/P Car...   \n",
              "2           3           3  PATIENT/TEST INFORMATION:\\nIndication: Pericar...   \n",
              "3           4           3  PATIENT/TEST INFORMATION:\\nIndication: Left ve...   \n",
              "4           5           3  Sinus rhythm. A-V conduction delay. Slight Q-T...   \n",
              "\n",
              "        category  expire_flag  \n",
              "0  Nursing/other            0  \n",
              "1           Echo            1  \n",
              "2           Echo            1  \n",
              "3           Echo            1  \n",
              "4            ECG            1  "
            ]
          },
          "metadata": {
            "tags": []
          },
          "execution_count": 4
        }
      ]
    },
    {
      "metadata": {
        "id": "v-8rY5t3tZMN",
        "colab_type": "code",
        "colab": {}
      },
      "cell_type": "code",
      "source": [
        "df.drop(columns = ['Unnamed: 0'], inplace = True)"
      ],
      "execution_count": 0,
      "outputs": []
    },
    {
      "metadata": {
        "id": "n_l78zFl1H7-",
        "colab_type": "code",
        "colab": {
          "base_uri": "https://localhost:8080/",
          "height": 204
        },
        "outputId": "7f12e035-9e68-4ac7-f50f-d469df270a01"
      },
      "cell_type": "code",
      "source": [
        "df.head()"
      ],
      "execution_count": 6,
      "outputs": [
        {
          "output_type": "execute_result",
          "data": {
            "text/html": [
              "<div>\n",
              "<style scoped>\n",
              "    .dataframe tbody tr th:only-of-type {\n",
              "        vertical-align: middle;\n",
              "    }\n",
              "\n",
              "    .dataframe tbody tr th {\n",
              "        vertical-align: top;\n",
              "    }\n",
              "\n",
              "    .dataframe thead th {\n",
              "        text-align: right;\n",
              "    }\n",
              "</style>\n",
              "<table border=\"1\" class=\"dataframe\">\n",
              "  <thead>\n",
              "    <tr style=\"text-align: right;\">\n",
              "      <th></th>\n",
              "      <th>subject_id</th>\n",
              "      <th>text</th>\n",
              "      <th>category</th>\n",
              "      <th>expire_flag</th>\n",
              "    </tr>\n",
              "  </thead>\n",
              "  <tbody>\n",
              "    <tr>\n",
              "      <th>0</th>\n",
              "      <td>2</td>\n",
              "      <td>Neonatology Attending Triage Note\\n\\nBaby [**N...</td>\n",
              "      <td>Nursing/other</td>\n",
              "      <td>0</td>\n",
              "    </tr>\n",
              "    <tr>\n",
              "      <th>1</th>\n",
              "      <td>3</td>\n",
              "      <td>PATIENT/TEST INFORMATION:\\nIndication: S/P Car...</td>\n",
              "      <td>Echo</td>\n",
              "      <td>1</td>\n",
              "    </tr>\n",
              "    <tr>\n",
              "      <th>2</th>\n",
              "      <td>3</td>\n",
              "      <td>PATIENT/TEST INFORMATION:\\nIndication: Pericar...</td>\n",
              "      <td>Echo</td>\n",
              "      <td>1</td>\n",
              "    </tr>\n",
              "    <tr>\n",
              "      <th>3</th>\n",
              "      <td>3</td>\n",
              "      <td>PATIENT/TEST INFORMATION:\\nIndication: Left ve...</td>\n",
              "      <td>Echo</td>\n",
              "      <td>1</td>\n",
              "    </tr>\n",
              "    <tr>\n",
              "      <th>4</th>\n",
              "      <td>3</td>\n",
              "      <td>Sinus rhythm. A-V conduction delay. Slight Q-T...</td>\n",
              "      <td>ECG</td>\n",
              "      <td>1</td>\n",
              "    </tr>\n",
              "  </tbody>\n",
              "</table>\n",
              "</div>"
            ],
            "text/plain": [
              "   subject_id                                               text  \\\n",
              "0           2  Neonatology Attending Triage Note\\n\\nBaby [**N...   \n",
              "1           3  PATIENT/TEST INFORMATION:\\nIndication: S/P Car...   \n",
              "2           3  PATIENT/TEST INFORMATION:\\nIndication: Pericar...   \n",
              "3           3  PATIENT/TEST INFORMATION:\\nIndication: Left ve...   \n",
              "4           3  Sinus rhythm. A-V conduction delay. Slight Q-T...   \n",
              "\n",
              "        category  expire_flag  \n",
              "0  Nursing/other            0  \n",
              "1           Echo            1  \n",
              "2           Echo            1  \n",
              "3           Echo            1  \n",
              "4            ECG            1  "
            ]
          },
          "metadata": {
            "tags": []
          },
          "execution_count": 6
        }
      ]
    },
    {
      "metadata": {
        "id": "ylGOdPJ-1Js2",
        "colab_type": "code",
        "colab": {
          "base_uri": "https://localhost:8080/",
          "height": 34
        },
        "outputId": "b7693bba-a201-4db8-a139-bd38e07bcaa2"
      },
      "cell_type": "code",
      "source": [
        "df.shape"
      ],
      "execution_count": 7,
      "outputs": [
        {
          "output_type": "execute_result",
          "data": {
            "text/plain": [
              "(197297, 4)"
            ]
          },
          "metadata": {
            "tags": []
          },
          "execution_count": 7
        }
      ]
    },
    {
      "metadata": {
        "id": "32krVmqV1O9F",
        "colab_type": "code",
        "colab": {
          "base_uri": "https://localhost:8080/",
          "height": 68
        },
        "outputId": "85797272-0067-4d3a-874b-83499d386160"
      },
      "cell_type": "code",
      "source": [
        "df['expire_flag'].value_counts()"
      ],
      "execution_count": 8,
      "outputs": [
        {
          "output_type": "execute_result",
          "data": {
            "text/plain": [
              "0    111666\n",
              "1     85631\n",
              "Name: expire_flag, dtype: int64"
            ]
          },
          "metadata": {
            "tags": []
          },
          "execution_count": 8
        }
      ]
    },
    {
      "metadata": {
        "id": "m25JhMwx1TFd",
        "colab_type": "code",
        "colab": {
          "base_uri": "https://localhost:8080/",
          "height": 390
        },
        "outputId": "ee62bccd-a788-4a2a-b8ee-c14ca3f0c6f5"
      },
      "cell_type": "code",
      "source": [
        "temp = df['expire_flag'].value_counts()\n",
        "\n",
        "plt.figure(figsize=(5,5))\n",
        "sns.barplot(temp.index, temp.values, alpha=0.8)\n",
        "plt.ylabel('Number of Notes', fontsize=12)\n",
        "plt.xlabel('Expiry Flag', fontsize=12)\n",
        "plt.xticks()\n",
        "plt.show();"
      ],
      "execution_count": 9,
      "outputs": [
        {
          "output_type": "stream",
          "text": [
            "/usr/local/lib/python3.6/dist-packages/seaborn/categorical.py:1428: FutureWarning: remove_na is deprecated and is a private function. Do not use.\n",
            "  stat_data = remove_na(group_data)\n"
          ],
          "name": "stderr"
        },
        {
          "output_type": "display_data",
          "data": {
            "image/png": "[encoded data removed]",
            "text/plain": [
              "<Figure size 360x360 with 1 Axes>"
            ]
          },
          "metadata": {
            "tags": []
          }
        }
      ]
    },
    {
      "metadata": {
        "id": "c5oZfdP81Wf-",
        "colab_type": "code",
        "colab": {}
      },
      "cell_type": "code",
      "source": [
        "from bs4 import BeautifulSoup\n",
        "def cleanText(text):\n",
        "    text = BeautifulSoup(text, \"lxml\").text\n",
        "    text = re.sub(r'\\|\\|\\|', r' ', text) \n",
        "    text = re.sub(r'http\\S+', r'<URL>', text)\n",
        "    text = text.lower()\n",
        "    text = text.replace('x', '')\n",
        "    return text"
      ],
      "execution_count": 0,
      "outputs": []
    },
    {
      "metadata": {
        "id": "1DAQgEra1XmG",
        "colab_type": "code",
        "colab": {}
      },
      "cell_type": "code",
      "source": [
        "df['text'] = df['text'].apply(cleanText)"
      ],
      "execution_count": 0,
      "outputs": []
    },
    {
      "metadata": {
        "id": "gWFmvMOf1Zv-",
        "colab_type": "code",
        "colab": {
          "base_uri": "https://localhost:8080/",
          "height": 204
        },
        "outputId": "b3f365dc-9b78-4068-8ad6-34d6e00cc284"
      },
      "cell_type": "code",
      "source": [
        "df.head()"
      ],
      "execution_count": 12,
      "outputs": [
        {
          "output_type": "execute_result",
          "data": {
            "text/html": [
              "<div>\n",
              "<style scoped>\n",
              "    .dataframe tbody tr th:only-of-type {\n",
              "        vertical-align: middle;\n",
              "    }\n",
              "\n",
              "    .dataframe tbody tr th {\n",
              "        vertical-align: top;\n",
              "    }\n",
              "\n",
              "    .dataframe thead th {\n",
              "        text-align: right;\n",
              "    }\n",
              "</style>\n",
              "<table border=\"1\" class=\"dataframe\">\n",
              "  <thead>\n",
              "    <tr style=\"text-align: right;\">\n",
              "      <th></th>\n",
              "      <th>subject_id</th>\n",
              "      <th>text</th>\n",
              "      <th>category</th>\n",
              "      <th>expire_flag</th>\n",
              "    </tr>\n",
              "  </thead>\n",
              "  <tbody>\n",
              "    <tr>\n",
              "      <th>0</th>\n",
              "      <td>2</td>\n",
              "      <td>neonatology attending triage note\\n\\nbaby [**n...</td>\n",
              "      <td>Nursing/other</td>\n",
              "      <td>0</td>\n",
              "    </tr>\n",
              "    <tr>\n",
              "      <th>1</th>\n",
              "      <td>3</td>\n",
              "      <td>patient/test information:\\nindication: s/p car...</td>\n",
              "      <td>Echo</td>\n",
              "      <td>1</td>\n",
              "    </tr>\n",
              "    <tr>\n",
              "      <th>2</th>\n",
              "      <td>3</td>\n",
              "      <td>patient/test information:\\nindication: pericar...</td>\n",
              "      <td>Echo</td>\n",
              "      <td>1</td>\n",
              "    </tr>\n",
              "    <tr>\n",
              "      <th>3</th>\n",
              "      <td>3</td>\n",
              "      <td>patient/test information:\\nindication: left ve...</td>\n",
              "      <td>Echo</td>\n",
              "      <td>1</td>\n",
              "    </tr>\n",
              "    <tr>\n",
              "      <th>4</th>\n",
              "      <td>3</td>\n",
              "      <td>sinus rhythm. a-v conduction delay. slight q-t...</td>\n",
              "      <td>ECG</td>\n",
              "      <td>1</td>\n",
              "    </tr>\n",
              "  </tbody>\n",
              "</table>\n",
              "</div>"
            ],
            "text/plain": [
              "   subject_id                                               text  \\\n",
              "0           2  neonatology attending triage note\\n\\nbaby [**n...   \n",
              "1           3  patient/test information:\\nindication: s/p car...   \n",
              "2           3  patient/test information:\\nindication: pericar...   \n",
              "3           3  patient/test information:\\nindication: left ve...   \n",
              "4           3  sinus rhythm. a-v conduction delay. slight q-t...   \n",
              "\n",
              "        category  expire_flag  \n",
              "0  Nursing/other            0  \n",
              "1           Echo            1  \n",
              "2           Echo            1  \n",
              "3           Echo            1  \n",
              "4            ECG            1  "
            ]
          },
          "metadata": {
            "tags": []
          },
          "execution_count": 12
        }
      ]
    },
    {
      "metadata": {
        "id": "ZqTqx4AK0YtG",
        "colab_type": "code",
        "colab": {}
      },
      "cell_type": "code",
      "source": [
        "from gensim.models import doc2vec\n",
        "\n",
        "def label_sentences(corpus, label_type):\n",
        "    \"\"\"\n",
        "    Gensim's Doc2Vec implementation requires each document/paragraph to have a label associated with it.\n",
        "    We do this by using the TaggedDocument method. The format will be \"TRAIN_i\" or \"TEST_i\" where \"i\" is\n",
        "    a dummy index of the complaint narrative.\n",
        "    \"\"\"\n",
        "    labeled = []\n",
        "    for i, v in enumerate(corpus):\n",
        "        label = label_type + '_' + str(i)\n",
        "        labeled.append(doc2vec.TaggedDocument(v.split(), [label]))\n",
        "    return labeled"
      ],
      "execution_count": 0,
      "outputs": []
    },
    {
      "metadata": {
        "id": "YmGFe7zNwd5N",
        "colab_type": "code",
        "colab": {}
      },
      "cell_type": "code",
      "source": [
        "X_train, X_test, y_train, y_test = train_test_split(df['text'], df['expire_flag'], test_size=0.3, shuffle = False)\n",
        "X_train = label_sentences(X_train, 'Train')\n",
        "X_test = label_sentences(X_test, 'Test')\n",
        "all_data = X_train + X_test"
      ],
      "execution_count": 0,
      "outputs": []
    },
    {
      "metadata": {
        "id": "Vvrkb5S-0E8F",
        "colab_type": "code",
        "colab": {
          "base_uri": "https://localhost:8080/",
          "height": 34
        },
        "outputId": "37748836-0845-4693-d4d7-2ddc8ee781ec"
      },
      "cell_type": "code",
      "source": [
        "len(all_data)"
      ],
      "execution_count": 15,
      "outputs": [
        {
          "output_type": "execute_result",
          "data": {
            "text/plain": [
              "197297"
            ]
          },
          "metadata": {
            "tags": []
          },
          "execution_count": 15
        }
      ]
    },
    {
      "metadata": {
        "id": "tNGOD0B50GUF",
        "colab_type": "code",
        "colab": {
          "base_uri": "https://localhost:8080/",
          "height": 54
        },
        "outputId": "4b52b04b-57ca-43d6-b05d-e303b45a8de5"
      },
      "cell_type": "code",
      "source": [
        "all_data[1]"
      ],
      "execution_count": 16,
      "outputs": [
        {
          "output_type": "execute_result",
          "data": {
            "text/plain": [
              "TaggedDocument(words=['patient/test', 'information:', 'indication:', 's/p', 'cardiac', 'arrest.', 'r/o', 'pericardial', 'effusion.', 'height:', '(in)', '69', 'weight', '(lb):', '150', 'bsa', '(m2):', '1.83', 'm2', 'bp', '(mm', 'hg):', '85/40', 'status:', 'inpatient', 'date/time:', '[**2101-10-21**]', 'at', '10:30', 'test:', 'portable', 'tte(complete)', 'doppler:', 'complete', 'pulse', 'and', 'color', 'flow', 'contrast:', 'none', 'technical', 'quality:', 'suboptimal', 'interpretation:', 'findings:', 'left', 'atrium:', 'the', 'left', 'atrium', 'is', 'normal', 'in', 'size.', 'right', 'atrium/interatrial', 'septum:', 'the', 'right', 'atrium', 'is', 'normal', 'in', 'size.', 'left', 'ventricle:', 'left', 'ventricular', 'wall', 'thicknesses', 'are', 'normal.', 'the', 'left', 'ventricular', 'cavity', 'size', 'is', 'normal.', 'there', 'is', 'severe', 'regional', 'left', 'ventricular', 'systolic', 'dysfunction.', 'overall', 'left', 'ventricular', 'systolic', 'function', 'is', 'severely', 'depressed.', 'right', 'ventricle:', 'right', 'ventricular', 'chamber', 'size', 'and', 'free', 'wall', 'motion', 'are', 'normal.', 'the', 'right', 'ventricular', 'wall', 'thickness', 'is', 'normal.', 'right', 'ventricular', 'chamber', 'size', 'is', 'normal.', 'right', 'ventricular', 'systolic', 'function', 'is', 'normal.', 'aortic', 'valve:', 'the', 'aortic', 'valve', 'is', 'not', 'well', 'seen.', 'mitral', 'valve:', 'the', 'mitral', 'valve', 'leaflets', 'are', 'mildly', 'thickened.', 'there', 'is', 'mild', 'mitral', 'annular', 'calcification.', 'pericardium:', 'there', 'is', 'no', 'pericardial', 'effusion.', 'general', 'comments:', 'image', 'quality', 'was', 'suboptimal.', 'conclusions:', 'limited', 'study.', 'no', 'color', 'doppler', 'was', 'performed.', 'the', 'left', 'atrium', 'is', 'normal', 'in', 'size.', 'left', 'ventricular', 'wall', 'thicknesses', 'are', 'normal.', 'the', 'left', 'ventricular', 'cavity', 'size', 'is', 'normal.', 'there', 'is', 'severe', 'regional', 'left', 'ventricular', 'systolic', 'dysfunction', 'with', 'mid', 'and', 'distal', 'lv', 'akinesis', 'amd', 're;atove', 'sparing', 'of', 'the', 'base', 'of', 'the', 'lv.', 'overall', 'left', 'ventricular', 'systolic', 'function', 'is', 'severely', 'depressed.', 'right', 'ventricular', 'chamber', 'size', 'and', 'free', 'wall', 'motion', 'are', 'normal.', 'right', 'ventricular', 'chamber', 'size', 'is', 'normal.', 'right', 'ventricular', 'systolic', 'function', 'is', 'hard', 'to', 'assess', 'but', 'is', 'probably', 'normal.', 'the', 'aortic', 'valve', 'is', 'not', 'well', 'seen.', 'the', 'mitral', 'valve', 'leaflets', 'are', 'mildly', 'thickened.', 'there', 'is', 'no', 'pericardial', 'effusion.'], tags=['Train_1'])"
            ]
          },
          "metadata": {
            "tags": []
          },
          "execution_count": 16
        }
      ]
    },
    {
      "metadata": {
        "id": "Y2KNR6MI0QKd",
        "colab_type": "code",
        "colab": {
          "base_uri": "https://localhost:8080/",
          "height": 34
        },
        "outputId": "69de093a-00cc-4424-f8cf-d61f39dca7cc"
      },
      "cell_type": "code",
      "source": [
        "model_dbow = Doc2Vec(dm=0, vector_size=300, negative=5, min_count=1, alpha=0.065, min_alpha=0.065)\n",
        "model_dbow.build_vocab([x for x in tqdm(all_data)])"
      ],
      "execution_count": 17,
      "outputs": [
        {
          "output_type": "stream",
          "text": [
            "100%|██████████| 197297/197297 [00:00<00:00, 2308932.16it/s]\n"
          ],
          "name": "stderr"
        }
      ]
    },
    {
      "metadata": {
        "id": "fctB7nKA2BWd",
        "colab_type": "code",
        "colab": {
          "base_uri": "https://localhost:8080/",
          "height": 561
        },
        "outputId": "5ecaef0f-66b8-4b3c-e19a-2734cb82da72"
      },
      "cell_type": "code",
      "source": [
        "%%time\n",
        "for epoch in range(30):\n",
        "    model_dbow.train(utils.shuffle([x for x in tqdm(all_data)]), total_examples=len(all_data), epochs=1)\n",
        "    model_dbow.alpha -= 0.002\n",
        "    model_dbow.min_alpha = model_dbow.alpha"
      ],
      "execution_count": 18,
      "outputs": [
        {
          "output_type": "stream",
          "text": [
            "100%|██████████| 197297/197297 [00:00<00:00, 2101802.03it/s]\n",
            "100%|██████████| 197297/197297 [00:00<00:00, 2189430.17it/s]\n",
            "100%|██████████| 197297/197297 [00:00<00:00, 2329687.38it/s]\n",
            "100%|██████████| 197297/197297 [00:00<00:00, 2396347.80it/s]\n",
            "100%|██████████| 197297/197297 [00:00<00:00, 2419914.37it/s]\n",
            "100%|██████████| 197297/197297 [00:00<00:00, 2391244.38it/s]\n",
            "100%|██████████| 197297/197297 [00:00<00:00, 2317584.28it/s]\n",
            "100%|██████████| 197297/197297 [00:00<00:00, 2404389.65it/s]\n",
            "100%|██████████| 197297/197297 [00:00<00:00, 2415831.04it/s]\n",
            "100%|██████████| 197297/197297 [00:00<00:00, 2353761.21it/s]\n",
            "100%|██████████| 197297/197297 [00:00<00:00, 2393402.20it/s]\n",
            "100%|██████████| 197297/197297 [00:00<00:00, 2410826.99it/s]\n",
            "100%|██████████| 197297/197297 [00:00<00:00, 2320222.50it/s]\n",
            "100%|██████████| 197297/197297 [00:00<00:00, 2245148.57it/s]\n",
            "100%|██████████| 197297/197297 [00:00<00:00, 2176691.25it/s]\n",
            "100%|██████████| 197297/197297 [00:00<00:00, 2342845.81it/s]\n",
            "100%|██████████| 197297/197297 [00:00<00:00, 2234617.62it/s]\n",
            "100%|██████████| 197297/197297 [00:00<00:00, 2392578.73it/s]\n",
            "100%|██████████| 197297/197297 [00:00<00:00, 2351560.64it/s]\n",
            "100%|██████████| 197297/197297 [00:00<00:00, 2402818.83it/s]\n",
            "100%|██████████| 197297/197297 [00:00<00:00, 2335868.88it/s]\n",
            "100%|██████████| 197297/197297 [00:00<00:00, 2329261.15it/s]\n",
            "100%|██████████| 197297/197297 [00:00<00:00, 2336409.67it/s]\n",
            "100%|██████████| 197297/197297 [00:00<00:00, 2336429.46it/s]\n",
            "100%|██████████| 197297/197297 [00:00<00:00, 2349050.74it/s]\n",
            "100%|██████████| 197297/197297 [00:00<00:00, 2255213.68it/s]\n",
            "100%|██████████| 197297/197297 [00:00<00:00, 2363677.80it/s]\n",
            "100%|██████████| 197297/197297 [00:00<00:00, 2348070.94it/s]\n",
            "100%|██████████| 197297/197297 [00:00<00:00, 2178880.59it/s]\n",
            "100%|██████████| 197297/197297 [00:00<00:00, 2157048.45it/s]\n"
          ],
          "name": "stderr"
        },
        {
          "output_type": "stream",
          "text": [
            "CPU times: user 1h 23min 36s, sys: 1min 4s, total: 1h 24min 41s\n",
            "Wall time: 44min 34s\n"
          ],
          "name": "stdout"
        }
      ]
    },
    {
      "metadata": {
        "id": "gC68Sdia2NSF",
        "colab_type": "code",
        "colab": {}
      },
      "cell_type": "code",
      "source": [
        "model_dbow.save(\"/content/drive/My Drive/Colab Notebooks/models/d2v_model_dbow_grouped.doc2vec\")"
      ],
      "execution_count": 0,
      "outputs": []
    },
    {
      "metadata": {
        "id": "Rql5U4jR2QiV",
        "colab_type": "code",
        "colab": {}
      },
      "cell_type": "code",
      "source": [
        "def get_vectors(model, corpus_size, vectors_size, vectors_type):\n",
        "    \"\"\"\n",
        "    Get vectors from trained doc2vec model\n",
        "    :param doc2vec_model: Trained Doc2Vec model\n",
        "    :param corpus_size: Size of the data\n",
        "    :param vectors_size: Size of the embedding vectors\n",
        "    :param vectors_type: Training or Testing vectors\n",
        "    :return: list of vectors\n",
        "    \"\"\"\n",
        "    vectors = np.zeros((corpus_size, vectors_size))\n",
        "    for i in range(0, corpus_size):\n",
        "        prefix = vectors_type + '_' + str(i)\n",
        "        vectors[i] = model.docvecs[prefix]\n",
        "    return vectors"
      ],
      "execution_count": 0,
      "outputs": []
    },
    {
      "metadata": {
        "id": "KjwsSALZCAR5",
        "colab_type": "code",
        "colab": {}
      },
      "cell_type": "code",
      "source": [
        "train_vectors_dbow = get_vectors(model_dbow, len(X_train), 300, 'Train')\n",
        "test_vectors_dbow = get_vectors(model_dbow, len(X_test), 300, 'Test')"
      ],
      "execution_count": 0,
      "outputs": []
    },
    {
      "metadata": {
        "id": "zKRthU9tCBZZ",
        "colab_type": "code",
        "colab": {
          "base_uri": "https://localhost:8080/",
          "height": 85
        },
        "outputId": "8b0664e3-bc71-40cb-f041-e428f6bd3609"
      },
      "cell_type": "code",
      "source": [
        "from sklearn.linear_model import LogisticRegression\n",
        "\n",
        "logreg = LogisticRegression(multi_class='multinomial', solver = 'lbfgs')\n",
        "logreg.fit(train_vectors_dbow, y_train)"
      ],
      "execution_count": 22,
      "outputs": [
        {
          "output_type": "execute_result",
          "data": {
            "text/plain": [
              "LogisticRegression(C=1.0, class_weight=None, dual=False, fit_intercept=True,\n",
              "          intercept_scaling=1, max_iter=100, multi_class='multinomial',\n",
              "          n_jobs=None, penalty='l2', random_state=None, solver='lbfgs',\n",
              "          tol=0.0001, verbose=0, warm_start=False)"
            ]
          },
          "metadata": {
            "tags": []
          },
          "execution_count": 22
        }
      ]
    },
    {
      "metadata": {
        "id": "fbctKUiDCCsp",
        "colab_type": "code",
        "colab": {
          "base_uri": "https://localhost:8080/",
          "height": 34
        },
        "outputId": "a4e15b4a-7f5f-4b8a-cfc3-9ab7d8e244f6"
      },
      "cell_type": "code",
      "source": [
        "logreg.score(test_vectors_dbow, y_test)"
      ],
      "execution_count": 23,
      "outputs": [
        {
          "output_type": "execute_result",
          "data": {
            "text/plain": [
              "0.7493664470349721"
            ]
          },
          "metadata": {
            "tags": []
          },
          "execution_count": 23
        }
      ]
    },
    {
      "metadata": {
        "id": "sXIKS9UHCFXR",
        "colab_type": "code",
        "colab": {}
      },
      "cell_type": "code",
      "source": [
        ""
      ],
      "execution_count": 0,
      "outputs": []
    }
  ]
}