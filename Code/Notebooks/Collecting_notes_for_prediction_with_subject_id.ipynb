{
  "nbformat": 4,
  "nbformat_minor": 0,
  "metadata": {
    "colab": {
      "name": "Collecting notes for prediction with subject_id.ipynb",
      "version": "0.3.2",
      "provenance": []
    },
    "kernelspec": {
      "name": "python3",
      "display_name": "Python 3"
    }
  },
  "cells": [
    {
      "metadata": {
        "id": "KTl869cluRfL",
        "colab_type": "code",
        "colab": {
          "base_uri": "https://localhost:8080/",
          "height": 34
        },
        "outputId": "de127c9d-31c5-4d83-87c6-3af7197655c3"
      },
      "cell_type": "code",
      "source": [
        "from google.colab import drive\n",
        "drive.mount('/content/drive')"
      ],
      "execution_count": 1,
      "outputs": [
        {
          "output_type": "stream",
          "text": [
            "Drive already mounted at /content/drive; to attempt to forcibly remount, call drive.mount(\"/content/drive\", force_remount=True).\n"
          ],
          "name": "stdout"
        }
      ]
    },
    {
      "metadata": {
        "id": "aNPul-U8uV9F",
        "colab_type": "code",
        "colab": {
          "base_uri": "https://localhost:8080/",
          "height": 34
        },
        "outputId": "202499fc-452b-4401-9cc5-d6cffeaa83a3"
      },
      "cell_type": "code",
      "source": [
        "!ls /content/drive/My\\ Drive/Colab\\ Notebooks/lib"
      ],
      "execution_count": 2,
      "outputs": [
        {
          "output_type": "stream",
          "text": [
            "__pycache__  utils.py\n"
          ],
          "name": "stdout"
        }
      ]
    },
    {
      "metadata": {
        "id": "cVn_0c9LuW7N",
        "colab_type": "code",
        "colab": {}
      },
      "cell_type": "code",
      "source": [
        "import os\n",
        "import sys \n",
        "sys.path.append(os.getcwd() + \"/drive/My Drive/Colab Notebooks/lib\")\n",
        "from utils import connectToDB, closeConnection\n",
        "import pandas as pd"
      ],
      "execution_count": 0,
      "outputs": []
    },
    {
      "metadata": {
        "id": "0tMCl5QUuYBV",
        "colab_type": "code",
        "colab": {
          "base_uri": "https://localhost:8080/",
          "height": 71
        },
        "outputId": "3aede54b-6a2f-497e-ec73-e23eb6351315"
      },
      "cell_type": "code",
      "source": [
        "conn, curr = connectToDB()"
      ],
      "execution_count": 4,
      "outputs": [
        {
          "output_type": "stream",
          "text": [
            "/usr/local/lib/python3.6/dist-packages/psycopg2/__init__.py:144: UserWarning: The psycopg2 wheel package will be renamed from release 2.8; in order to keep installing from binary please use \"pip install psycopg2-binary\" instead. For details see: <http://initd.org/psycopg/docs/install.html#binary-install-from-pypi>.\n",
            "  \"\"\")\n"
          ],
          "name": "stderr"
        }
      ]
    },
    {
      "metadata": {
        "id": "v22BPCBYuZXF",
        "colab_type": "code",
        "colab": {}
      },
      "cell_type": "code",
      "source": [
        "curr.execute(\"SELECT subject_id from mimiciii.patients where expire_flag = 1;\")"
      ],
      "execution_count": 0,
      "outputs": []
    },
    {
      "metadata": {
        "id": "IpmWHrjmuaiN",
        "colab_type": "code",
        "colab": {}
      },
      "cell_type": "code",
      "source": [
        "dead_patients = set()\n",
        "for i in curr.fetchall():\n",
        "  dead_patients.add(i[0])"
      ],
      "execution_count": 0,
      "outputs": []
    },
    {
      "metadata": {
        "id": "SHOA28ofucyN",
        "colab_type": "code",
        "colab": {
          "base_uri": "https://localhost:8080/",
          "height": 34
        },
        "outputId": "a9c9009f-b67b-4240-aae9-c3c21facc421"
      },
      "cell_type": "code",
      "source": [
        "len(dead_patients)"
      ],
      "execution_count": 7,
      "outputs": [
        {
          "output_type": "execute_result",
          "data": {
            "text/plain": [
              "15759"
            ]
          },
          "metadata": {
            "tags": []
          },
          "execution_count": 7
        }
      ]
    },
    {
      "metadata": {
        "id": "Vdc-eO9yueOF",
        "colab_type": "code",
        "colab": {}
      },
      "cell_type": "code",
      "source": [
        "curr.execute(\"SELECT subject_id, text, category from mimiciii.noteevents order by subject_id limit 200000;\")"
      ],
      "execution_count": 0,
      "outputs": []
    },
    {
      "metadata": {
        "id": "3WSEoj5pufkl",
        "colab_type": "code",
        "colab": {}
      },
      "cell_type": "code",
      "source": [
        "f = open('/content/drive/My Drive/Colab Notebooks/output3.csv', 'w')"
      ],
      "execution_count": 0,
      "outputs": []
    },
    {
      "metadata": {
        "id": "O1bE_YpRuigV",
        "colab_type": "code",
        "colab": {}
      },
      "cell_type": "code",
      "source": [
        "while True:\n",
        "    # Read the data\n",
        "    df = pd.DataFrame(curr.fetchmany(10000))\n",
        "    #print(df)\n",
        "    # We are done if there are no data\n",
        "    if len(df) == 0:\n",
        "        break\n",
        "    # Let's write to the file\n",
        "    else:\n",
        "        df.to_csv(f, header = None, index = False)"
      ],
      "execution_count": 0,
      "outputs": []
    },
    {
      "metadata": {
        "id": "sP4SXWo2uk39",
        "colab_type": "code",
        "colab": {}
      },
      "cell_type": "code",
      "source": [
        "f.close()"
      ],
      "execution_count": 0,
      "outputs": []
    },
    {
      "metadata": {
        "id": "e3VnA6QJumXV",
        "colab_type": "code",
        "colab": {}
      },
      "cell_type": "code",
      "source": [
        "df = pd.read_csv(\"/content/drive/My Drive/Colab Notebooks/outputs/output3.csv\")"
      ],
      "execution_count": 0,
      "outputs": []
    },
    {
      "metadata": {
        "id": "SBvwY1aCuq7-",
        "colab_type": "code",
        "colab": {
          "base_uri": "https://localhost:8080/",
          "height": 88
        },
        "outputId": "9408be56-522e-4138-b8c7-8a5a7594694b"
      },
      "cell_type": "code",
      "source": [
        "df.columns.values"
      ],
      "execution_count": 17,
      "outputs": [
        {
          "output_type": "execute_result",
          "data": {
            "text/plain": [
              "array(['2',\n",
              "       \"Nursing Transfer note\\n\\n\\nPt admitted to NICU for sepsis eval. Please see Attending\\nnote for details regarding maternal history and delivery\\ndetails.\\n\\nInfant stable in RA. RR 30-40's, sats 96-100%. LS clear/=.\\nNo retractions noted. HR 140's. No murmur. Infant [** 5**], well\\nperfused. BW 3865g. CBC and BC sent, pending at this time.\\nInfant on 48 r/o sepsis with abx Amp and Gent. PIV placed in\\nLeft hand, meds administered as ordered. D Stick 72. Infant\\nstable for transfer to NBN. Continue to monitor for s/s of\\nsepsis.\\n\\n\\n\",\n",
              "       'Nursing/other'], dtype=object)"
            ]
          },
          "metadata": {
            "tags": []
          },
          "execution_count": 17
        }
      ]
    },
    {
      "metadata": {
        "id": "-bBfd5YLu4Hm",
        "colab_type": "code",
        "colab": {}
      },
      "cell_type": "code",
      "source": [
        "df.rename(columns = {\"2\" : \"subject_id\", \"Nursing Transfer note\\n\\n\\nPt admitted to NICU for sepsis eval. Please see Attending\\nnote for details regarding maternal history and delivery\\ndetails.\\n\\nInfant stable in RA. RR 30-40's, sats 96-100%. LS clear/=.\\nNo retractions noted. HR 140's. No murmur. Infant [** 5**], well\\nperfused. BW 3865g. CBC and BC sent, pending at this time.\\nInfant on 48 r/o sepsis with abx Amp and Gent. PIV placed in\\nLeft hand, meds administered as ordered. D Stick 72. Infant\\nstable for transfer to NBN. Continue to monitor for s/s of\\nsepsis.\\n\\n\\n\" : \"text\", \"Nursing/other\" : 'category'}, inplace = True)"
      ],
      "execution_count": 0,
      "outputs": []
    },
    {
      "metadata": {
        "id": "ZOc5EUfeu5zm",
        "colab_type": "code",
        "colab": {
          "base_uri": "https://localhost:8080/",
          "height": 204
        },
        "outputId": "f41c6c71-dbc4-46b3-8fe6-aea6ce3e683a"
      },
      "cell_type": "code",
      "source": [
        "df.head()"
      ],
      "execution_count": 19,
      "outputs": [
        {
          "output_type": "execute_result",
          "data": {
            "text/html": [
              "<div>\n",
              "<style scoped>\n",
              "    .dataframe tbody tr th:only-of-type {\n",
              "        vertical-align: middle;\n",
              "    }\n",
              "\n",
              "    .dataframe tbody tr th {\n",
              "        vertical-align: top;\n",
              "    }\n",
              "\n",
              "    .dataframe thead th {\n",
              "        text-align: right;\n",
              "    }\n",
              "</style>\n",
              "<table border=\"1\" class=\"dataframe\">\n",
              "  <thead>\n",
              "    <tr style=\"text-align: right;\">\n",
              "      <th></th>\n",
              "      <th>subject_id</th>\n",
              "      <th>text</th>\n",
              "      <th>category</th>\n",
              "    </tr>\n",
              "  </thead>\n",
              "  <tbody>\n",
              "    <tr>\n",
              "      <th>0</th>\n",
              "      <td>2</td>\n",
              "      <td>Neonatology Attending Triage Note\\n\\nBaby [**N...</td>\n",
              "      <td>Nursing/other</td>\n",
              "    </tr>\n",
              "    <tr>\n",
              "      <th>1</th>\n",
              "      <td>3</td>\n",
              "      <td>Admission Date:  [**2101-10-20**]     Discharg...</td>\n",
              "      <td>Discharge summary</td>\n",
              "    </tr>\n",
              "    <tr>\n",
              "      <th>2</th>\n",
              "      <td>3</td>\n",
              "      <td>PATIENT/TEST INFORMATION:\\nIndication: S/P Car...</td>\n",
              "      <td>Echo</td>\n",
              "    </tr>\n",
              "    <tr>\n",
              "      <th>3</th>\n",
              "      <td>3</td>\n",
              "      <td>PATIENT/TEST INFORMATION:\\nIndication: Pericar...</td>\n",
              "      <td>Echo</td>\n",
              "    </tr>\n",
              "    <tr>\n",
              "      <th>4</th>\n",
              "      <td>3</td>\n",
              "      <td>PATIENT/TEST INFORMATION:\\nIndication: Left ve...</td>\n",
              "      <td>Echo</td>\n",
              "    </tr>\n",
              "  </tbody>\n",
              "</table>\n",
              "</div>"
            ],
            "text/plain": [
              "   subject_id                                               text  \\\n",
              "0           2  Neonatology Attending Triage Note\\n\\nBaby [**N...   \n",
              "1           3  Admission Date:  [**2101-10-20**]     Discharg...   \n",
              "2           3  PATIENT/TEST INFORMATION:\\nIndication: S/P Car...   \n",
              "3           3  PATIENT/TEST INFORMATION:\\nIndication: Pericar...   \n",
              "4           3  PATIENT/TEST INFORMATION:\\nIndication: Left ve...   \n",
              "\n",
              "            category  \n",
              "0      Nursing/other  \n",
              "1  Discharge summary  \n",
              "2               Echo  \n",
              "3               Echo  \n",
              "4               Echo  "
            ]
          },
          "metadata": {
            "tags": []
          },
          "execution_count": 19
        }
      ]
    },
    {
      "metadata": {
        "id": "PRH3tPMcu7Ll",
        "colab_type": "code",
        "colab": {
          "base_uri": "https://localhost:8080/",
          "height": 34
        },
        "outputId": "de0180ad-7a61-4f94-9c19-bff9210a859f"
      },
      "cell_type": "code",
      "source": [
        "len(df)"
      ],
      "execution_count": 20,
      "outputs": [
        {
          "output_type": "execute_result",
          "data": {
            "text/plain": [
              "199999"
            ]
          },
          "metadata": {
            "tags": []
          },
          "execution_count": 20
        }
      ]
    },
    {
      "metadata": {
        "id": "4mQA3e2Su83F",
        "colab_type": "code",
        "colab": {}
      },
      "cell_type": "code",
      "source": [
        "for i in range(len(df)):\n",
        "  if df['category'][i] == 'Discharge summary' and df['subject_id'][i] in dead_patients:\n",
        "    df.drop(i, inplace = True)"
      ],
      "execution_count": 0,
      "outputs": []
    },
    {
      "metadata": {
        "id": "iX14YOHVvBB1",
        "colab_type": "code",
        "colab": {
          "base_uri": "https://localhost:8080/",
          "height": 34
        },
        "outputId": "91faddca-cf79-45e8-9d9e-a533a712d1c4"
      },
      "cell_type": "code",
      "source": [
        "len(df)"
      ],
      "execution_count": 22,
      "outputs": [
        {
          "output_type": "execute_result",
          "data": {
            "text/plain": [
              "197297"
            ]
          },
          "metadata": {
            "tags": []
          },
          "execution_count": 22
        }
      ]
    },
    {
      "metadata": {
        "id": "Nq_XjdAmvCuF",
        "colab_type": "code",
        "colab": {}
      },
      "cell_type": "code",
      "source": [
        "df['expire_flag'] = df['subject_id'].map(lambda x:1 if x in dead_patients else 0)"
      ],
      "execution_count": 0,
      "outputs": []
    },
    {
      "metadata": {
        "id": "0baIZAy7vMeY",
        "colab_type": "code",
        "colab": {
          "base_uri": "https://localhost:8080/",
          "height": 204
        },
        "outputId": "1e993c05-869a-4ae6-a0ab-7301fdd5a02b"
      },
      "cell_type": "code",
      "source": [
        "df.head()"
      ],
      "execution_count": 24,
      "outputs": [
        {
          "output_type": "execute_result",
          "data": {
            "text/html": [
              "<div>\n",
              "<style scoped>\n",
              "    .dataframe tbody tr th:only-of-type {\n",
              "        vertical-align: middle;\n",
              "    }\n",
              "\n",
              "    .dataframe tbody tr th {\n",
              "        vertical-align: top;\n",
              "    }\n",
              "\n",
              "    .dataframe thead th {\n",
              "        text-align: right;\n",
              "    }\n",
              "</style>\n",
              "<table border=\"1\" class=\"dataframe\">\n",
              "  <thead>\n",
              "    <tr style=\"text-align: right;\">\n",
              "      <th></th>\n",
              "      <th>subject_id</th>\n",
              "      <th>text</th>\n",
              "      <th>category</th>\n",
              "      <th>expire_flag</th>\n",
              "    </tr>\n",
              "  </thead>\n",
              "  <tbody>\n",
              "    <tr>\n",
              "      <th>0</th>\n",
              "      <td>2</td>\n",
              "      <td>Neonatology Attending Triage Note\\n\\nBaby [**N...</td>\n",
              "      <td>Nursing/other</td>\n",
              "      <td>0</td>\n",
              "    </tr>\n",
              "    <tr>\n",
              "      <th>2</th>\n",
              "      <td>3</td>\n",
              "      <td>PATIENT/TEST INFORMATION:\\nIndication: S/P Car...</td>\n",
              "      <td>Echo</td>\n",
              "      <td>1</td>\n",
              "    </tr>\n",
              "    <tr>\n",
              "      <th>3</th>\n",
              "      <td>3</td>\n",
              "      <td>PATIENT/TEST INFORMATION:\\nIndication: Pericar...</td>\n",
              "      <td>Echo</td>\n",
              "      <td>1</td>\n",
              "    </tr>\n",
              "    <tr>\n",
              "      <th>4</th>\n",
              "      <td>3</td>\n",
              "      <td>PATIENT/TEST INFORMATION:\\nIndication: Left ve...</td>\n",
              "      <td>Echo</td>\n",
              "      <td>1</td>\n",
              "    </tr>\n",
              "    <tr>\n",
              "      <th>5</th>\n",
              "      <td>3</td>\n",
              "      <td>Sinus rhythm. A-V conduction delay. Slight Q-T...</td>\n",
              "      <td>ECG</td>\n",
              "      <td>1</td>\n",
              "    </tr>\n",
              "  </tbody>\n",
              "</table>\n",
              "</div>"
            ],
            "text/plain": [
              "   subject_id                                               text  \\\n",
              "0           2  Neonatology Attending Triage Note\\n\\nBaby [**N...   \n",
              "2           3  PATIENT/TEST INFORMATION:\\nIndication: S/P Car...   \n",
              "3           3  PATIENT/TEST INFORMATION:\\nIndication: Pericar...   \n",
              "4           3  PATIENT/TEST INFORMATION:\\nIndication: Left ve...   \n",
              "5           3  Sinus rhythm. A-V conduction delay. Slight Q-T...   \n",
              "\n",
              "        category  expire_flag  \n",
              "0  Nursing/other            0  \n",
              "2           Echo            1  \n",
              "3           Echo            1  \n",
              "4           Echo            1  \n",
              "5            ECG            1  "
            ]
          },
          "metadata": {
            "tags": []
          },
          "execution_count": 24
        }
      ]
    },
    {
      "metadata": {
        "id": "_A25LNlRvFal",
        "colab_type": "code",
        "colab": {}
      },
      "cell_type": "code",
      "source": [
        "df.to_csv(\"/content/drive/My Drive/Colab Notebooks/outputs/notes,subjectid,expireflag.csv\")"
      ],
      "execution_count": 0,
      "outputs": []
    },
    {
      "metadata": {
        "id": "FvtZxV63vblN",
        "colab_type": "code",
        "colab": {}
      },
      "cell_type": "code",
      "source": [
        ""
      ],
      "execution_count": 0,
      "outputs": []
    }
  ]
}