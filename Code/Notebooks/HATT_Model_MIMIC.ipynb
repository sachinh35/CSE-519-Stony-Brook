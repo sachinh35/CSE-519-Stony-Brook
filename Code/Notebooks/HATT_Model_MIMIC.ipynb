{
  "nbformat": 4,
  "nbformat_minor": 0,
  "metadata": {
    "colab": {
      "name": "HATT Model MIMIC.ipynb",
      "version": "0.3.2",
      "provenance": []
    },
    "kernelspec": {
      "name": "python3",
      "display_name": "Python 3"
    }
  },
  "cells": [
    {
      "metadata": {
        "id": "tlhAQre42u67",
        "colab_type": "code",
        "outputId": "0526e6de-4ea8-4379-a48f-c85709d1cca8",
        "colab": {
          "base_uri": "https://localhost:8080/",
          "height": 34
        }
      },
      "cell_type": "code",
      "source": [
        "from google.colab import drive\n",
        "drive.mount('/content/drive')"
      ],
      "execution_count": 1,
      "outputs": [
        {
          "output_type": "stream",
          "text": [
            "Drive already mounted at /content/drive; to attempt to forcibly remount, call drive.mount(\"/content/drive\", force_remount=True).\n"
          ],
          "name": "stdout"
        }
      ]
    },
    {
      "metadata": {
        "id": "n7m_cwfl2x6G",
        "colab_type": "code",
        "outputId": "dd893262-2771-4f13-f353-79c7fdc71619",
        "colab": {
          "base_uri": "https://localhost:8080/",
          "height": 34
        }
      },
      "cell_type": "code",
      "source": [
        "!ls /content/drive/My\\ Drive/Colab\\ Notebooks/lib"
      ],
      "execution_count": 2,
      "outputs": [
        {
          "output_type": "stream",
          "text": [
            "per_patient_roc.py  plotting.py  __pycache__  utils.py\n"
          ],
          "name": "stdout"
        }
      ]
    },
    {
      "metadata": {
        "id": "eGOS7ivt3AWd",
        "colab_type": "code",
        "colab": {}
      },
      "cell_type": "code",
      "source": [
        "import os\n",
        "import sys \n",
        "sys.path.append(os.getcwd() + \"/drive/My Drive/Colab Notebooks/lib\")\n",
        "from utils import connectToDB, closeConnection, read_input_doc2vec, findMostSimilarDocumentsDoc2Vec, count_most_similar_doc2vec\n",
        "import pandas as pd"
      ],
      "execution_count": 0,
      "outputs": []
    },
    {
      "metadata": {
        "id": "PI7KrPbh3BeV",
        "colab_type": "code",
        "outputId": "d35fa44c-9dee-44e5-8c4d-806602443dea",
        "colab": {
          "base_uri": "https://localhost:8080/",
          "height": 34
        }
      },
      "cell_type": "code",
      "source": [
        "import numpy as np\n",
        "import pandas as pd\n",
        "#import cPickle\n",
        "from collections import defaultdict\n",
        "import re\n",
        "\n",
        "from bs4 import BeautifulSoup\n",
        "\n",
        "import sys\n",
        "import os\n",
        "\n",
        "\n",
        "from keras.preprocessing.text import Tokenizer, text_to_word_sequence\n",
        "from keras.preprocessing.sequence import pad_sequences\n",
        "from keras.utils.np_utils import to_categorical\n",
        "\n",
        "from keras.layers import Embedding\n",
        "from keras.layers import Dense, Input, Flatten\n",
        "from keras.layers import Conv1D, MaxPooling1D, Embedding, Dropout, LSTM, GRU, Bidirectional, TimeDistributed\n",
        "from keras.models import Model\n",
        "\n",
        "from keras import backend as K\n",
        "from keras.engine.topology import Layer, InputSpec\n",
        "from keras import initializers"
      ],
      "execution_count": 4,
      "outputs": [
        {
          "output_type": "stream",
          "text": [
            "Using TensorFlow backend.\n"
          ],
          "name": "stderr"
        }
      ]
    },
    {
      "metadata": {
        "id": "xILZDgmUtdgn",
        "colab_type": "code",
        "outputId": "067a5507-9c8e-4468-cb5e-68cac9807eaa",
        "colab": {
          "base_uri": "https://localhost:8080/",
          "height": 170
        }
      },
      "cell_type": "code",
      "source": [
        "!python"
      ],
      "execution_count": 5,
      "outputs": [
        {
          "output_type": "stream",
          "text": [
            "Python 3.6.7 (default, Oct 22 2018, 11:32:17) \n",
            "[GCC 8.2.0] on linux\n",
            "Type \"help\", \"copyright\", \"credits\" or \"license\" for more information.\n",
            ">>> import nltk\n",
            ">>> nltk.download(\"punkt\")\n",
            "[nltk_data] Downloading package punkt to /root/nltk_data...\n",
            "[nltk_data]   Unzipping tokenizers/punkt.zip.\n",
            "True\n",
            ">>> exit()\n"
          ],
          "name": "stdout"
        }
      ]
    },
    {
      "metadata": {
        "id": "tvVqJ7d23CpV",
        "colab_type": "code",
        "colab": {}
      },
      "cell_type": "code",
      "source": [
        "MAX_SENT_LENGTH = 100\n",
        "MAX_SENTS = 15\n",
        "MAX_NB_WORDS = 20000\n",
        "EMBEDDING_DIM = 100\n",
        "VALIDATION_SPLIT = 0.2"
      ],
      "execution_count": 0,
      "outputs": []
    },
    {
      "metadata": {
        "id": "fXcggRcQ3EYl",
        "colab_type": "code",
        "colab": {}
      },
      "cell_type": "code",
      "source": [
        "def clean_str(string):\n",
        "    \"\"\"\n",
        "    Tokenization/string cleaning for dataset\n",
        "    Every dataset is lower cased except\n",
        "    \"\"\"\n",
        "    string = re.sub(r\"\\\\\", \"\", string.decode('utf-8'))\n",
        "    string = re.sub(r\"\\'\", \"\", string)\n",
        "    string = re.sub(r\"\\\"\", \"\", string)\n",
        "    return string.strip().lower()"
      ],
      "execution_count": 0,
      "outputs": []
    },
    {
      "metadata": {
        "id": "AUzdWzyj3GY1",
        "colab_type": "code",
        "colab": {}
      },
      "cell_type": "code",
      "source": [
        "df = pd.read_csv(\"/content/drive/My Drive/Colab Notebooks/outputs/notes,subjectid,expireflag,chartdate.csv\")"
      ],
      "execution_count": 0,
      "outputs": []
    },
    {
      "metadata": {
        "id": "7TE-_UmN5Wxe",
        "colab_type": "code",
        "outputId": "fc9a5795-1386-41b1-90fa-4a054e68c8e8",
        "colab": {
          "base_uri": "https://localhost:8080/",
          "height": 204
        }
      },
      "cell_type": "code",
      "source": [
        "df.head()"
      ],
      "execution_count": 9,
      "outputs": [
        {
          "output_type": "execute_result",
          "data": {
            "text/html": [
              "<div>\n",
              "<style scoped>\n",
              "    .dataframe tbody tr th:only-of-type {\n",
              "        vertical-align: middle;\n",
              "    }\n",
              "\n",
              "    .dataframe tbody tr th {\n",
              "        vertical-align: top;\n",
              "    }\n",
              "\n",
              "    .dataframe thead th {\n",
              "        text-align: right;\n",
              "    }\n",
              "</style>\n",
              "<table border=\"1\" class=\"dataframe\">\n",
              "  <thead>\n",
              "    <tr style=\"text-align: right;\">\n",
              "      <th></th>\n",
              "      <th>Unnamed: 0</th>\n",
              "      <th>subject_id</th>\n",
              "      <th>text</th>\n",
              "      <th>category</th>\n",
              "      <th>chartdate</th>\n",
              "      <th>expire_flag</th>\n",
              "    </tr>\n",
              "  </thead>\n",
              "  <tbody>\n",
              "    <tr>\n",
              "      <th>0</th>\n",
              "      <td>0</td>\n",
              "      <td>2</td>\n",
              "      <td>Neonatology Attending Triage Note\\n\\nBaby [**N...</td>\n",
              "      <td>Nursing/other</td>\n",
              "      <td>2138-07-17</td>\n",
              "      <td>0</td>\n",
              "    </tr>\n",
              "    <tr>\n",
              "      <th>1</th>\n",
              "      <td>1</td>\n",
              "      <td>3</td>\n",
              "      <td>Sinus rhythm\\nInferior/lateral ST-T changes ar...</td>\n",
              "      <td>ECG</td>\n",
              "      <td>2101-10-06</td>\n",
              "      <td>1</td>\n",
              "    </tr>\n",
              "    <tr>\n",
              "      <th>2</th>\n",
              "      <td>2</td>\n",
              "      <td>3</td>\n",
              "      <td>[**2101-10-6**] 6:02 PM\\n CHEST (PORTABLE AP) ...</td>\n",
              "      <td>Radiology</td>\n",
              "      <td>2101-10-06</td>\n",
              "      <td>1</td>\n",
              "    </tr>\n",
              "    <tr>\n",
              "      <th>3</th>\n",
              "      <td>3</td>\n",
              "      <td>3</td>\n",
              "      <td>Sinus rhythm\\nA-V delay\\nNonspecific inferior ...</td>\n",
              "      <td>ECG</td>\n",
              "      <td>2101-10-11</td>\n",
              "      <td>1</td>\n",
              "    </tr>\n",
              "    <tr>\n",
              "      <th>4</th>\n",
              "      <td>4</td>\n",
              "      <td>3</td>\n",
              "      <td>[**2101-10-11**] 9:06 PM\\n CHEST (PRE-OP PA &amp; ...</td>\n",
              "      <td>Radiology</td>\n",
              "      <td>2101-10-11</td>\n",
              "      <td>1</td>\n",
              "    </tr>\n",
              "  </tbody>\n",
              "</table>\n",
              "</div>"
            ],
            "text/plain": [
              "   Unnamed: 0  subject_id                                               text  \\\n",
              "0           0           2  Neonatology Attending Triage Note\\n\\nBaby [**N...   \n",
              "1           1           3  Sinus rhythm\\nInferior/lateral ST-T changes ar...   \n",
              "2           2           3  [**2101-10-6**] 6:02 PM\\n CHEST (PORTABLE AP) ...   \n",
              "3           3           3  Sinus rhythm\\nA-V delay\\nNonspecific inferior ...   \n",
              "4           4           3  [**2101-10-11**] 9:06 PM\\n CHEST (PRE-OP PA & ...   \n",
              "\n",
              "        category   chartdate  expire_flag  \n",
              "0  Nursing/other  2138-07-17            0  \n",
              "1            ECG  2101-10-06            1  \n",
              "2      Radiology  2101-10-06            1  \n",
              "3            ECG  2101-10-11            1  \n",
              "4      Radiology  2101-10-11            1  "
            ]
          },
          "metadata": {
            "tags": []
          },
          "execution_count": 9
        }
      ]
    },
    {
      "metadata": {
        "id": "pQtV1X8J5cfm",
        "colab_type": "code",
        "colab": {}
      },
      "cell_type": "code",
      "source": [
        "df.rename(columns = {'text':'notes'}, inplace = True)"
      ],
      "execution_count": 0,
      "outputs": []
    },
    {
      "metadata": {
        "id": "7yP0AkvyLDsS",
        "colab_type": "code",
        "colab": {}
      },
      "cell_type": "code",
      "source": [
        "df.drop(columns = ['Unnamed: 0'], inplace = True)"
      ],
      "execution_count": 0,
      "outputs": []
    },
    {
      "metadata": {
        "id": "_L0F8DHp5kNV",
        "colab_type": "code",
        "outputId": "43b62150-0836-4a33-94b1-9367054ab937",
        "colab": {
          "base_uri": "https://localhost:8080/",
          "height": 204
        }
      },
      "cell_type": "code",
      "source": [
        "df.head()"
      ],
      "execution_count": 12,
      "outputs": [
        {
          "output_type": "execute_result",
          "data": {
            "text/html": [
              "<div>\n",
              "<style scoped>\n",
              "    .dataframe tbody tr th:only-of-type {\n",
              "        vertical-align: middle;\n",
              "    }\n",
              "\n",
              "    .dataframe tbody tr th {\n",
              "        vertical-align: top;\n",
              "    }\n",
              "\n",
              "    .dataframe thead th {\n",
              "        text-align: right;\n",
              "    }\n",
              "</style>\n",
              "<table border=\"1\" class=\"dataframe\">\n",
              "  <thead>\n",
              "    <tr style=\"text-align: right;\">\n",
              "      <th></th>\n",
              "      <th>subject_id</th>\n",
              "      <th>notes</th>\n",
              "      <th>category</th>\n",
              "      <th>chartdate</th>\n",
              "      <th>expire_flag</th>\n",
              "    </tr>\n",
              "  </thead>\n",
              "  <tbody>\n",
              "    <tr>\n",
              "      <th>0</th>\n",
              "      <td>2</td>\n",
              "      <td>Neonatology Attending Triage Note\\n\\nBaby [**N...</td>\n",
              "      <td>Nursing/other</td>\n",
              "      <td>2138-07-17</td>\n",
              "      <td>0</td>\n",
              "    </tr>\n",
              "    <tr>\n",
              "      <th>1</th>\n",
              "      <td>3</td>\n",
              "      <td>Sinus rhythm\\nInferior/lateral ST-T changes ar...</td>\n",
              "      <td>ECG</td>\n",
              "      <td>2101-10-06</td>\n",
              "      <td>1</td>\n",
              "    </tr>\n",
              "    <tr>\n",
              "      <th>2</th>\n",
              "      <td>3</td>\n",
              "      <td>[**2101-10-6**] 6:02 PM\\n CHEST (PORTABLE AP) ...</td>\n",
              "      <td>Radiology</td>\n",
              "      <td>2101-10-06</td>\n",
              "      <td>1</td>\n",
              "    </tr>\n",
              "    <tr>\n",
              "      <th>3</th>\n",
              "      <td>3</td>\n",
              "      <td>Sinus rhythm\\nA-V delay\\nNonspecific inferior ...</td>\n",
              "      <td>ECG</td>\n",
              "      <td>2101-10-11</td>\n",
              "      <td>1</td>\n",
              "    </tr>\n",
              "    <tr>\n",
              "      <th>4</th>\n",
              "      <td>3</td>\n",
              "      <td>[**2101-10-11**] 9:06 PM\\n CHEST (PRE-OP PA &amp; ...</td>\n",
              "      <td>Radiology</td>\n",
              "      <td>2101-10-11</td>\n",
              "      <td>1</td>\n",
              "    </tr>\n",
              "  </tbody>\n",
              "</table>\n",
              "</div>"
            ],
            "text/plain": [
              "   subject_id                                              notes  \\\n",
              "0           2  Neonatology Attending Triage Note\\n\\nBaby [**N...   \n",
              "1           3  Sinus rhythm\\nInferior/lateral ST-T changes ar...   \n",
              "2           3  [**2101-10-6**] 6:02 PM\\n CHEST (PORTABLE AP) ...   \n",
              "3           3  Sinus rhythm\\nA-V delay\\nNonspecific inferior ...   \n",
              "4           3  [**2101-10-11**] 9:06 PM\\n CHEST (PRE-OP PA & ...   \n",
              "\n",
              "        category   chartdate  expire_flag  \n",
              "0  Nursing/other  2138-07-17            0  \n",
              "1            ECG  2101-10-06            1  \n",
              "2      Radiology  2101-10-06            1  \n",
              "3            ECG  2101-10-11            1  \n",
              "4      Radiology  2101-10-11            1  "
            ]
          },
          "metadata": {
            "tags": []
          },
          "execution_count": 12
        }
      ]
    },
    {
      "metadata": {
        "id": "kmUfwB7nQ-kh",
        "colab_type": "code",
        "colab": {}
      },
      "cell_type": "code",
      "source": [
        "df.drop(df.index[[len(df) - 1,len(df) - 2]], inplace = True)"
      ],
      "execution_count": 0,
      "outputs": []
    },
    {
      "metadata": {
        "id": "g-sveeSq5nk1",
        "colab_type": "code",
        "outputId": "dd2f6553-d368-49e9-be0e-d694600b0358",
        "colab": {
          "base_uri": "https://localhost:8080/",
          "height": 34
        }
      },
      "cell_type": "code",
      "source": [
        "df.notes.shape[0]"
      ],
      "execution_count": 17,
      "outputs": [
        {
          "output_type": "execute_result",
          "data": {
            "text/plain": [
              "197297"
            ]
          },
          "metadata": {
            "tags": []
          },
          "execution_count": 17
        }
      ]
    },
    {
      "metadata": {
        "id": "ITbuvF-b49Rl",
        "colab_type": "code",
        "colab": {}
      },
      "cell_type": "code",
      "source": [
        "from nltk import tokenize\n",
        "\n",
        "reviews = []\n",
        "labels = []\n",
        "texts = []\n",
        "\n",
        "for idx in range(df.notes.shape[0]):\n",
        "    text = BeautifulSoup(df.notes[idx])\n",
        "    text = clean_str(text.get_text().encode('ascii', 'ignore'))\n",
        "    #text = clean_str(text.get_text())\n",
        "    texts.append(text)\n",
        "    sentences = tokenize.sent_tokenize(text)\n",
        "    reviews.append(sentences)\n",
        "\n",
        "    labels.append(df.expire_flag[idx])"
      ],
      "execution_count": 0,
      "outputs": []
    },
    {
      "metadata": {
        "id": "KQZJdjxu600l",
        "colab_type": "code",
        "outputId": "ab5102fd-288f-4392-9d91-67fc35ae58b0",
        "colab": {
          "base_uri": "https://localhost:8080/",
          "height": 54
        }
      },
      "cell_type": "code",
      "source": [
        "texts[20]"
      ],
      "execution_count": 19,
      "outputs": [
        {
          "output_type": "execute_result",
          "data": {
            "text/plain": [
              "'patient/test information:\\nindication: left ventricular function.\\nheight: (in) 70\\nweight (lb): 215\\nbsa (m2): 2.15 m2\\nbp (mm hg): 100/60\\nhr (bpm): 90\\nstatus: inpatient\\ndate/time: [**2101-10-21**] at 11:12\\ntest: portable tte(complete)\\ndoppler: complete pulse and color flow\\ncontrast: none\\ntechnical quality: adequate\\n\\n\\ninterpretation:\\n\\nfindings:\\n\\nleft atrium: the left atrium is mildly dilated.\\n\\nright atrium/interatrial septum: the right atrium is normal in size.\\n\\nleft ventricle: left ventricular wall thicknesses are normal. the left\\nventricular cavity size is normal. there is severe regional left ventricular\\nsystolic dysfunction. overall left ventricular systolic function is severely\\ndepressed.\\n\\nlv wall motion: the following resting regional left ventricular wall motion\\nabnormalities are seen: mid anterior - akinetic; mid anteroseptal - akinetic;\\nmid inferoseptal - akinetic; mid inferior - akinetic; mid inferolateral -\\nakinetic; mid anterolateral - akinetic; anterior apex - akinetic; septal apex-\\nakinetic; inferior apex - akinetic; lateral apex - akinetic; apex - akinetic;\\n\\nright ventricle: the right ventricular wall thickness is normal. right\\nventricular chamber size is normal. there is focal hypokinesis of the apical\\nfree wall of the right ventricle.\\n\\naortic valve: the aortic valve leaflets (3) appear structurally normal with\\ngood leaflet excursion and no aortic regurgitation.\\n\\nmitral valve: moderate (2+) mitral regurgitation is seen.\\n\\npericardium: there is no pericardial effusion.\\n\\nconclusions:\\nthe left atrium is mildly dilated. left ventricular wall thicknesses are\\nnormal. the left ventricular cavity size is normal. there is severe regional\\nleft ventricular systolic dysfunction. overall left ventricular systolic\\nfunction is severely depressed. resting regional wall motion abnormalities\\ninclude with inferior and dmid and apical lv akinesis with relative sparing of\\nthe lv. right ventricular chamber size is normal. right ventricular systolic\\nfunction appears depressed. the aortic valve leaflets (3) appear structurally\\nnormal with good leaflet excursion and no aortic regurgitation. moderate (2+)\\nmitral regurgitation is seen. there is no pericardial effusion. there is an\\nechogenic density in the right ventricle consistent with a swan-ganz catheter.\\n\\ncompared with the prior study of [**2101-10-20**], the lv function is unchanged. there\\nis now moderate mr seen. the rv function appears worse.'"
            ]
          },
          "metadata": {
            "tags": []
          },
          "execution_count": 19
        }
      ]
    },
    {
      "metadata": {
        "id": "7WZeykDn50YO",
        "colab_type": "code",
        "colab": {}
      },
      "cell_type": "code",
      "source": [
        "tokenizer = Tokenizer(num_words=MAX_NB_WORDS)\n",
        "tokenizer.fit_on_texts(texts)"
      ],
      "execution_count": 0,
      "outputs": []
    },
    {
      "metadata": {
        "id": "Mbqsm8UW65Su",
        "colab_type": "code",
        "colab": {}
      },
      "cell_type": "code",
      "source": [
        "data = np.zeros((len(texts), MAX_SENTS, MAX_SENT_LENGTH), dtype='int32')"
      ],
      "execution_count": 0,
      "outputs": []
    },
    {
      "metadata": {
        "id": "HYqkmfJJ7J2V",
        "colab_type": "code",
        "colab": {}
      },
      "cell_type": "code",
      "source": [
        "for i, sentences in enumerate(reviews):\n",
        "    for j, sent in enumerate(sentences):\n",
        "        if j < MAX_SENTS:\n",
        "            wordTokens = text_to_word_sequence(sent)\n",
        "            k = 0\n",
        "            for _, word in enumerate(wordTokens):\n",
        "                if k < MAX_SENT_LENGTH and tokenizer.word_index[word] < MAX_NB_WORDS:\n",
        "                    data[i, j, k] = tokenizer.word_index[word]\n",
        "                    k = k + 1"
      ],
      "execution_count": 0,
      "outputs": []
    },
    {
      "metadata": {
        "id": "z9viWEY17K-W",
        "colab_type": "code",
        "outputId": "baea1247-2d7f-4a79-a03c-8ed4d47fcd5f",
        "colab": {
          "base_uri": "https://localhost:8080/",
          "height": 34
        }
      },
      "cell_type": "code",
      "source": [
        "word_index = tokenizer.word_index\n",
        "print('Total %s unique tokens.' % len(word_index))"
      ],
      "execution_count": 40,
      "outputs": [
        {
          "output_type": "stream",
          "text": [
            "Total 166687 unique tokens.\n"
          ],
          "name": "stdout"
        }
      ]
    },
    {
      "metadata": {
        "id": "okZEjDzaTW9h",
        "colab_type": "code",
        "colab": {}
      },
      "cell_type": "code",
      "source": [
        "del word_index['and']\n",
        "del word_index['to']"
      ],
      "execution_count": 0,
      "outputs": []
    },
    {
      "metadata": {
        "id": "Ay7VHO_wT034",
        "colab_type": "code",
        "colab": {
          "base_uri": "https://localhost:8080/",
          "height": 34
        },
        "outputId": "56b552c5-1358-4aa6-bb1a-c531ad96c673"
      },
      "cell_type": "code",
      "source": [
        "print('Total %s unique tokens.' % len(word_index))"
      ],
      "execution_count": 45,
      "outputs": [
        {
          "output_type": "stream",
          "text": [
            "Total 166685 unique tokens.\n"
          ],
          "name": "stdout"
        }
      ]
    },
    {
      "metadata": {
        "id": "7HD-0z6E7Mfe",
        "colab_type": "code",
        "outputId": "b2339931-416f-4f3c-cb3b-e4e457125905",
        "colab": {
          "base_uri": "https://localhost:8080/",
          "height": 51
        }
      },
      "cell_type": "code",
      "source": [
        "labels = to_categorical(np.asarray(labels))\n",
        "print('Shape of data tensor:', data.shape)\n",
        "print('Shape of label tensor:', labels.shape)"
      ],
      "execution_count": 24,
      "outputs": [
        {
          "output_type": "stream",
          "text": [
            "Shape of data tensor: (197297, 15, 100)\n",
            "Shape of label tensor: (197297, 2)\n"
          ],
          "name": "stdout"
        }
      ]
    },
    {
      "metadata": {
        "id": "tXg8dZ8sdNUd",
        "colab_type": "code",
        "colab": {
          "base_uri": "https://localhost:8080/",
          "height": 34
        },
        "outputId": "768e346c-8ca5-4e91-b5f1-998aee1b8a6b"
      },
      "cell_type": "code",
      "source": [
        "len(labels)"
      ],
      "execution_count": 25,
      "outputs": [
        {
          "output_type": "execute_result",
          "data": {
            "text/plain": [
              "197297"
            ]
          },
          "metadata": {
            "tags": []
          },
          "execution_count": 25
        }
      ]
    },
    {
      "metadata": {
        "id": "ehTE9PmN7ael",
        "colab_type": "code",
        "colab": {}
      },
      "cell_type": "code",
      "source": [
        "# indices = np.arange(data.shape[0])\n",
        "# np.random.shuffle(indices)\n",
        "# data = data[indices]\n",
        "# labels = labels[indices]\n",
        "nb_validation_samples = int(VALIDATION_SPLIT * data.shape[0])"
      ],
      "execution_count": 0,
      "outputs": []
    },
    {
      "metadata": {
        "id": "_apW4IBI71be",
        "colab_type": "code",
        "colab": {}
      },
      "cell_type": "code",
      "source": [
        "x_train = data[:-nb_validation_samples]\n",
        "y_train = labels[:-nb_validation_samples]\n",
        "x_val = data[-nb_validation_samples:]\n",
        "y_val = labels[-nb_validation_samples:]"
      ],
      "execution_count": 0,
      "outputs": []
    },
    {
      "metadata": {
        "id": "LmFiqEFzZ9zm",
        "colab_type": "code",
        "colab": {
          "base_uri": "https://localhost:8080/",
          "height": 34
        },
        "outputId": "3f195c3c-c3a2-4974-a20a-9c0ec810f593"
      },
      "cell_type": "code",
      "source": [
        "len(x_train) + len(x_val)"
      ],
      "execution_count": 28,
      "outputs": [
        {
          "output_type": "execute_result",
          "data": {
            "text/plain": [
              "197297"
            ]
          },
          "metadata": {
            "tags": []
          },
          "execution_count": 28
        }
      ]
    },
    {
      "metadata": {
        "id": "X6Fk1ziZ736m",
        "colab_type": "code",
        "outputId": "5fe05e7a-dcf8-445e-f0ee-4ade9b50215f",
        "colab": {
          "base_uri": "https://localhost:8080/",
          "height": 68
        }
      },
      "cell_type": "code",
      "source": [
        "print('Number of positive and negative patients in traing and validation set')\n",
        "print (y_train.sum(axis=0))\n",
        "print (y_val.sum(axis=0))"
      ],
      "execution_count": 29,
      "outputs": [
        {
          "output_type": "stream",
          "text": [
            "Number of positive and negative patients in traing and validation set\n",
            "[90538. 67300.]\n",
            "[21128. 18331.]\n"
          ],
          "name": "stdout"
        }
      ]
    },
    {
      "metadata": {
        "id": "H3-1kyhr76em",
        "colab_type": "code",
        "colab": {}
      },
      "cell_type": "code",
      "source": [
        "GLOVE_DIR = \"/content/drive/My Drive/Colab Notebooks/glove/glove\"\n",
        "embeddings_index = {}\n",
        "f = open(os.path.join(GLOVE_DIR, 'glove.6B.100d.txt'))\n",
        "for line in f:\n",
        "    values = line.split()\n",
        "    word = values[0]\n",
        "    coefs = np.asarray(values[1:], dtype='float32')\n",
        "    embeddings_index[word] = coefs\n",
        "f.close()"
      ],
      "execution_count": 0,
      "outputs": []
    },
    {
      "metadata": {
        "id": "AMkV02Ag7-52",
        "colab_type": "code",
        "outputId": "c5fc86a8-cff4-49f4-801a-d9ad03e048b9",
        "colab": {
          "base_uri": "https://localhost:8080/",
          "height": 34
        }
      },
      "cell_type": "code",
      "source": [
        "print('Total %s word vectors.' % len(embeddings_index))"
      ],
      "execution_count": 31,
      "outputs": [
        {
          "output_type": "stream",
          "text": [
            "Total 400000 word vectors.\n"
          ],
          "name": "stdout"
        }
      ]
    },
    {
      "metadata": {
        "id": "ZfmWRfuy8BoG",
        "colab_type": "code",
        "colab": {}
      },
      "cell_type": "code",
      "source": [
        "embedding_matrix = np.random.random((len(word_index) + 1, EMBEDDING_DIM))\n",
        "for word, i in word_index.items():\n",
        "    embedding_vector = embeddings_index.get(word)\n",
        "    if embedding_vector is not None:\n",
        "        # words not found in embedding index will be all-zeros.\n",
        "        embedding_matrix[i] = embedding_vector"
      ],
      "execution_count": 0,
      "outputs": []
    },
    {
      "metadata": {
        "id": "_NMOwQ9y8EOu",
        "colab_type": "code",
        "colab": {}
      },
      "cell_type": "code",
      "source": [
        "embedding_matrix = np.random.random((len(word_index) + 1, EMBEDDING_DIM))\n",
        "for word, i in word_index.items():\n",
        "    embedding_vector = embeddings_index.get(word)\n",
        "    if embedding_vector is not None:\n",
        "        # words not found in embedding index will be all-zeros.\n",
        "        embedding_matrix[i] = embedding_vector\n",
        "\n",
        "embedding_layer = Embedding(len(word_index) + 1,\n",
        "                            EMBEDDING_DIM,\n",
        "                            weights=[embedding_matrix],\n",
        "                            input_length=MAX_SENT_LENGTH,\n",
        "                            trainable=True,\n",
        "                            mask_zero=True)"
      ],
      "execution_count": 0,
      "outputs": []
    },
    {
      "metadata": {
        "id": "zxTCTEde8FWG",
        "colab_type": "code",
        "colab": {}
      },
      "cell_type": "code",
      "source": [
        "class AttLayer(Layer):\n",
        "    def __init__(self, attention_dim):\n",
        "        self.init = initializers.get('normal')\n",
        "        self.supports_masking = True\n",
        "        self.attention_dim = attention_dim\n",
        "        super(AttLayer, self).__init__()\n",
        "\n",
        "    def build(self, input_shape):\n",
        "        assert len(input_shape) == 3\n",
        "        self.W = K.variable(self.init((input_shape[-1], self.attention_dim)))\n",
        "        self.b = K.variable(self.init((self.attention_dim, )))\n",
        "        self.u = K.variable(self.init((self.attention_dim, 1)))\n",
        "        self.trainable_weights = [self.W, self.b, self.u]\n",
        "        super(AttLayer, self).build(input_shape)\n",
        "\n",
        "    def compute_mask(self, inputs, mask=None):\n",
        "        return None\n",
        "\n",
        "    def call(self, x, mask=None):\n",
        "        # size of x :[batch_size, sel_len, attention_dim]\n",
        "        # size of u :[batch_size, attention_dim]\n",
        "        # uit = tanh(xW+b)\n",
        "        uit = K.tanh(K.bias_add(K.dot(x, self.W), self.b))\n",
        "        ait = K.dot(uit, self.u)\n",
        "        ait = K.squeeze(ait, -1)\n",
        "\n",
        "        ait = K.exp(ait)\n",
        "\n",
        "        if mask is not None:\n",
        "            # Cast the mask to floatX to avoid float64 upcasting in theano\n",
        "            ait *= K.cast(mask, K.floatx())\n",
        "        ait /= K.cast(K.sum(ait, axis=1, keepdims=True) + K.epsilon(), K.floatx())\n",
        "        ait = K.expand_dims(ait)\n",
        "        weighted_input = x * ait\n",
        "        output = K.sum(weighted_input, axis=1)\n",
        "\n",
        "        return output\n",
        "\n",
        "    def compute_output_shape(self, input_shape):\n",
        "        return (input_shape[0], input_shape[-1])"
      ],
      "execution_count": 0,
      "outputs": []
    },
    {
      "metadata": {
        "id": "ZCNBPURY8Hle",
        "colab_type": "code",
        "colab": {}
      },
      "cell_type": "code",
      "source": [
        "sentence_input = Input(shape=(MAX_SENT_LENGTH,), dtype='int32')\n",
        "embedded_sequences = embedding_layer(sentence_input)\n",
        "l_lstm = Bidirectional(GRU(100, return_sequences=True))(embedded_sequences)\n",
        "l_att = AttLayer(100)(l_lstm)\n",
        "sentEncoder = Model(sentence_input, l_att)"
      ],
      "execution_count": 0,
      "outputs": []
    },
    {
      "metadata": {
        "id": "Syui1AUj8Jgm",
        "colab_type": "code",
        "colab": {}
      },
      "cell_type": "code",
      "source": [
        "review_input = Input(shape=(MAX_SENTS, MAX_SENT_LENGTH), dtype='int32')\n",
        "review_encoder = TimeDistributed(sentEncoder)(review_input)\n",
        "l_lstm_sent = Bidirectional(GRU(100, return_sequences=True))(review_encoder)\n",
        "l_att_sent = AttLayer(100)(l_lstm_sent)\n",
        "preds = Dense(2, activation='softmax')(l_att_sent)\n",
        "model = Model(review_input, preds)"
      ],
      "execution_count": 0,
      "outputs": []
    },
    {
      "metadata": {
        "id": "95aqaA_f8LR3",
        "colab_type": "code",
        "colab": {}
      },
      "cell_type": "code",
      "source": [
        "model.compile(loss='categorical_crossentropy',\n",
        "              optimizer='rmsprop',\n",
        "              metrics=['acc'])"
      ],
      "execution_count": 0,
      "outputs": []
    },
    {
      "metadata": {
        "id": "HelWMwTM8M8n",
        "colab_type": "code",
        "outputId": "b60413a0-19af-4f03-ea90-c8af968650be",
        "colab": {
          "base_uri": "https://localhost:8080/",
          "height": 513
        }
      },
      "cell_type": "code",
      "source": [
        "print(\"model fitting - Hierachical attention network\")\n",
        "model.fit(x_train, y_train, validation_data=(x_val, y_val),\n",
        "          nb_epoch=10, batch_size=50)"
      ],
      "execution_count": 0,
      "outputs": [
        {
          "output_type": "stream",
          "text": [
            "model fitting - Hierachical attention network\n",
            "WARNING:tensorflow:From /usr/local/lib/python3.6/dist-packages/tensorflow/python/ops/math_ops.py:3066: to_int32 (from tensorflow.python.ops.math_ops) is deprecated and will be removed in a future version.\n",
            "Instructions for updating:\n",
            "Use tf.cast instead.\n"
          ],
          "name": "stdout"
        },
        {
          "output_type": "stream",
          "text": [
            "/usr/local/lib/python3.6/dist-packages/ipykernel_launcher.py:3: UserWarning: The `nb_epoch` argument in `fit` has been renamed `epochs`.\n",
            "  This is separate from the ipykernel package so we can avoid doing imports until\n"
          ],
          "name": "stderr"
        },
        {
          "output_type": "stream",
          "text": [
            "Train on 157838 samples, validate on 39459 samples\n",
            "Epoch 1/10\n",
            "157838/157838 [==============================] - 1851s 12ms/step - loss: 0.4305 - acc: 0.7784 - val_loss: 0.3839 - val_acc: 0.8076\n",
            "Epoch 2/10\n",
            "157838/157838 [==============================] - 1825s 12ms/step - loss: 0.3663 - acc: 0.8205 - val_loss: 0.3725 - val_acc: 0.8126\n",
            "Epoch 3/10\n",
            "157838/157838 [==============================] - 1854s 12ms/step - loss: 0.3346 - acc: 0.8383 - val_loss: 0.3673 - val_acc: 0.8168\n",
            "Epoch 4/10\n",
            "157838/157838 [==============================] - 1873s 12ms/step - loss: 0.3053 - acc: 0.8542 - val_loss: 0.3480 - val_acc: 0.8292\n",
            "Epoch 5/10\n",
            "157838/157838 [==============================] - 1866s 12ms/step - loss: 0.2759 - acc: 0.8710 - val_loss: 0.3567 - val_acc: 0.8238\n",
            "Epoch 6/10\n",
            "157838/157838 [==============================] - 1860s 12ms/step - loss: 0.2431 - acc: 0.8881 - val_loss: 0.3726 - val_acc: 0.8277\n",
            "Epoch 7/10\n",
            "157838/157838 [==============================] - 1865s 12ms/step - loss: 0.2099 - acc: 0.9047 - val_loss: 0.4151 - val_acc: 0.8294\n",
            "Epoch 8/10\n",
            "157838/157838 [==============================] - 1854s 12ms/step - loss: 0.1782 - acc: 0.9215 - val_loss: 0.4531 - val_acc: 0.8262\n",
            "Epoch 9/10\n",
            "157838/157838 [==============================] - 1852s 12ms/step - loss: 0.1509 - acc: 0.9337 - val_loss: 0.5262 - val_acc: 0.8191\n",
            "Epoch 10/10\n",
            "157838/157838 [==============================] - 1851s 12ms/step - loss: 0.1284 - acc: 0.9445 - val_loss: 0.5382 - val_acc: 0.8284\n"
          ],
          "name": "stdout"
        },
        {
          "output_type": "execute_result",
          "data": {
            "text/plain": [
              "<keras.callbacks.History at 0x7f4985db1c88>"
            ]
          },
          "metadata": {
            "tags": []
          },
          "execution_count": 31
        }
      ]
    },
    {
      "metadata": {
        "id": "t8zfG1EN8OJe",
        "colab_type": "code",
        "colab": {}
      },
      "cell_type": "code",
      "source": [
        "model.save(\"/content/drive/My Drive/Colab Notebooks/models/kerasatt_mimic.h5\")"
      ],
      "execution_count": 0,
      "outputs": []
    },
    {
      "metadata": {
        "id": "Oeh0NsXSY82Y",
        "colab_type": "code",
        "colab": {}
      },
      "cell_type": "code",
      "source": [
        "model.load_weights(\"/content/drive/My Drive/Colab Notebooks/models/kerasatt_mimic.h5\")"
      ],
      "execution_count": 0,
      "outputs": []
    },
    {
      "metadata": {
        "id": "12G_Lnd8VCVy",
        "colab_type": "code",
        "colab": {
          "base_uri": "https://localhost:8080/",
          "height": 204
        },
        "outputId": "7af49532-1e96-44fe-e32c-bf5297460928"
      },
      "cell_type": "code",
      "source": [
        "df.head()"
      ],
      "execution_count": 70,
      "outputs": [
        {
          "output_type": "execute_result",
          "data": {
            "text/html": [
              "<div>\n",
              "<style scoped>\n",
              "    .dataframe tbody tr th:only-of-type {\n",
              "        vertical-align: middle;\n",
              "    }\n",
              "\n",
              "    .dataframe tbody tr th {\n",
              "        vertical-align: top;\n",
              "    }\n",
              "\n",
              "    .dataframe thead th {\n",
              "        text-align: right;\n",
              "    }\n",
              "</style>\n",
              "<table border=\"1\" class=\"dataframe\">\n",
              "  <thead>\n",
              "    <tr style=\"text-align: right;\">\n",
              "      <th></th>\n",
              "      <th>subject_id</th>\n",
              "      <th>notes</th>\n",
              "      <th>category</th>\n",
              "      <th>chartdate</th>\n",
              "      <th>expire_flag</th>\n",
              "    </tr>\n",
              "  </thead>\n",
              "  <tbody>\n",
              "    <tr>\n",
              "      <th>0</th>\n",
              "      <td>2</td>\n",
              "      <td>Neonatology Attending Triage Note\\n\\nBaby [**N...</td>\n",
              "      <td>Nursing/other</td>\n",
              "      <td>2138-07-17</td>\n",
              "      <td>0</td>\n",
              "    </tr>\n",
              "    <tr>\n",
              "      <th>1</th>\n",
              "      <td>3</td>\n",
              "      <td>Sinus rhythm\\nInferior/lateral ST-T changes ar...</td>\n",
              "      <td>ECG</td>\n",
              "      <td>2101-10-06</td>\n",
              "      <td>1</td>\n",
              "    </tr>\n",
              "    <tr>\n",
              "      <th>2</th>\n",
              "      <td>3</td>\n",
              "      <td>[**2101-10-6**] 6:02 PM\\n CHEST (PORTABLE AP) ...</td>\n",
              "      <td>Radiology</td>\n",
              "      <td>2101-10-06</td>\n",
              "      <td>1</td>\n",
              "    </tr>\n",
              "    <tr>\n",
              "      <th>3</th>\n",
              "      <td>3</td>\n",
              "      <td>Sinus rhythm\\nA-V delay\\nNonspecific inferior ...</td>\n",
              "      <td>ECG</td>\n",
              "      <td>2101-10-11</td>\n",
              "      <td>1</td>\n",
              "    </tr>\n",
              "    <tr>\n",
              "      <th>4</th>\n",
              "      <td>3</td>\n",
              "      <td>[**2101-10-11**] 9:06 PM\\n CHEST (PRE-OP PA &amp; ...</td>\n",
              "      <td>Radiology</td>\n",
              "      <td>2101-10-11</td>\n",
              "      <td>1</td>\n",
              "    </tr>\n",
              "  </tbody>\n",
              "</table>\n",
              "</div>"
            ],
            "text/plain": [
              "   subject_id                                              notes  \\\n",
              "0           2  Neonatology Attending Triage Note\\n\\nBaby [**N...   \n",
              "1           3  Sinus rhythm\\nInferior/lateral ST-T changes ar...   \n",
              "2           3  [**2101-10-6**] 6:02 PM\\n CHEST (PORTABLE AP) ...   \n",
              "3           3  Sinus rhythm\\nA-V delay\\nNonspecific inferior ...   \n",
              "4           3  [**2101-10-11**] 9:06 PM\\n CHEST (PRE-OP PA & ...   \n",
              "\n",
              "        category   chartdate  expire_flag  \n",
              "0  Nursing/other  2138-07-17            0  \n",
              "1            ECG  2101-10-06            1  \n",
              "2      Radiology  2101-10-06            1  \n",
              "3            ECG  2101-10-11            1  \n",
              "4      Radiology  2101-10-11            1  "
            ]
          },
          "metadata": {
            "tags": []
          },
          "execution_count": 70
        }
      ]
    },
    {
      "metadata": {
        "id": "vhct5UnprCym",
        "colab_type": "code",
        "colab": {}
      },
      "cell_type": "code",
      "source": [
        "train_predict = model.predict(x_train, batch_size=100)[:,0]"
      ],
      "execution_count": 0,
      "outputs": []
    },
    {
      "metadata": {
        "id": "pXImuQwG8Dhm",
        "colab_type": "code",
        "colab": {}
      },
      "cell_type": "code",
      "source": [
        "val_predict = model.predict(x_val, batch_size=100)[:,0]"
      ],
      "execution_count": 0,
      "outputs": []
    },
    {
      "metadata": {
        "id": "FEK6w5kHICTU",
        "colab_type": "code",
        "colab": {}
      },
      "cell_type": "code",
      "source": [
        "df['scores'] = np.concatenate((train_predict,val_predict),axis = 0)"
      ],
      "execution_count": 0,
      "outputs": []
    },
    {
      "metadata": {
        "id": "zC-LD3EfIhAp",
        "colab_type": "code",
        "colab": {}
      },
      "cell_type": "code",
      "source": [
        "df['scores'] = df['scores'].map(lambda X: (1-X))"
      ],
      "execution_count": 0,
      "outputs": []
    },
    {
      "metadata": {
        "id": "Pg3cmP9HIysL",
        "colab_type": "code",
        "colab": {
          "base_uri": "https://localhost:8080/",
          "height": 204
        },
        "outputId": "04dbed46-5f21-476e-b87b-09fe98ea8553"
      },
      "cell_type": "code",
      "source": [
        "df.head()"
      ],
      "execution_count": 76,
      "outputs": [
        {
          "output_type": "execute_result",
          "data": {
            "text/html": [
              "<div>\n",
              "<style scoped>\n",
              "    .dataframe tbody tr th:only-of-type {\n",
              "        vertical-align: middle;\n",
              "    }\n",
              "\n",
              "    .dataframe tbody tr th {\n",
              "        vertical-align: top;\n",
              "    }\n",
              "\n",
              "    .dataframe thead th {\n",
              "        text-align: right;\n",
              "    }\n",
              "</style>\n",
              "<table border=\"1\" class=\"dataframe\">\n",
              "  <thead>\n",
              "    <tr style=\"text-align: right;\">\n",
              "      <th></th>\n",
              "      <th>subject_id</th>\n",
              "      <th>notes</th>\n",
              "      <th>category</th>\n",
              "      <th>chartdate</th>\n",
              "      <th>expire_flag</th>\n",
              "      <th>scores</th>\n",
              "    </tr>\n",
              "  </thead>\n",
              "  <tbody>\n",
              "    <tr>\n",
              "      <th>0</th>\n",
              "      <td>2</td>\n",
              "      <td>Neonatology Attending Triage Note\\n\\nBaby [**N...</td>\n",
              "      <td>Nursing/other</td>\n",
              "      <td>2138-07-17</td>\n",
              "      <td>0</td>\n",
              "      <td>2.384186e-07</td>\n",
              "    </tr>\n",
              "    <tr>\n",
              "      <th>1</th>\n",
              "      <td>3</td>\n",
              "      <td>Sinus rhythm\\nInferior/lateral ST-T changes ar...</td>\n",
              "      <td>ECG</td>\n",
              "      <td>2101-10-06</td>\n",
              "      <td>1</td>\n",
              "      <td>8.839338e-01</td>\n",
              "    </tr>\n",
              "    <tr>\n",
              "      <th>2</th>\n",
              "      <td>3</td>\n",
              "      <td>[**2101-10-6**] 6:02 PM\\n CHEST (PORTABLE AP) ...</td>\n",
              "      <td>Radiology</td>\n",
              "      <td>2101-10-06</td>\n",
              "      <td>1</td>\n",
              "      <td>9.969654e-01</td>\n",
              "    </tr>\n",
              "    <tr>\n",
              "      <th>3</th>\n",
              "      <td>3</td>\n",
              "      <td>Sinus rhythm\\nA-V delay\\nNonspecific inferior ...</td>\n",
              "      <td>ECG</td>\n",
              "      <td>2101-10-11</td>\n",
              "      <td>1</td>\n",
              "      <td>9.593783e-01</td>\n",
              "    </tr>\n",
              "    <tr>\n",
              "      <th>4</th>\n",
              "      <td>3</td>\n",
              "      <td>[**2101-10-11**] 9:06 PM\\n CHEST (PRE-OP PA &amp; ...</td>\n",
              "      <td>Radiology</td>\n",
              "      <td>2101-10-11</td>\n",
              "      <td>1</td>\n",
              "      <td>9.994255e-01</td>\n",
              "    </tr>\n",
              "  </tbody>\n",
              "</table>\n",
              "</div>"
            ],
            "text/plain": [
              "   subject_id                                              notes  \\\n",
              "0           2  Neonatology Attending Triage Note\\n\\nBaby [**N...   \n",
              "1           3  Sinus rhythm\\nInferior/lateral ST-T changes ar...   \n",
              "2           3  [**2101-10-6**] 6:02 PM\\n CHEST (PORTABLE AP) ...   \n",
              "3           3  Sinus rhythm\\nA-V delay\\nNonspecific inferior ...   \n",
              "4           3  [**2101-10-11**] 9:06 PM\\n CHEST (PRE-OP PA & ...   \n",
              "\n",
              "        category   chartdate  expire_flag        scores  \n",
              "0  Nursing/other  2138-07-17            0  2.384186e-07  \n",
              "1            ECG  2101-10-06            1  8.839338e-01  \n",
              "2      Radiology  2101-10-06            1  9.969654e-01  \n",
              "3            ECG  2101-10-11            1  9.593783e-01  \n",
              "4      Radiology  2101-10-11            1  9.994255e-01  "
            ]
          },
          "metadata": {
            "tags": []
          },
          "execution_count": 76
        }
      ]
    },
    {
      "metadata": {
        "id": "qSN1Q6EwJjX1",
        "colab_type": "code",
        "colab": {}
      },
      "cell_type": "code",
      "source": [
        "df.to_csv(\"/content/drive/My Drive/Colab Notebooks/outputs/hatt_scores.csv\")"
      ],
      "execution_count": 0,
      "outputs": []
    }
  ]
}